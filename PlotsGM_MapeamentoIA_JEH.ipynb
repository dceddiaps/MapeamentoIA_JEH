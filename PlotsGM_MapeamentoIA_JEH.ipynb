{
 "cells": [
  {
   "cell_type": "markdown",
   "id": "363a836a",
   "metadata": {},
   "source": [
    "# Exportação para Plots no Global Mapper"
   ]
  },
  {
   "cell_type": "markdown",
   "id": "69cfae4a",
   "metadata": {},
   "source": [
    "## Projeto de Mapeamento Marinho Apresentado Nas Jornadas de Engenharia Hidrográfica"
   ]
  },
  {
   "cell_type": "markdown",
   "id": "d764533d",
   "metadata": {},
   "source": [
    "## Diogo Ceddia Porto Silva"
   ]
  },
  {
   "cell_type": "markdown",
   "id": "159846e4",
   "metadata": {},
   "source": [
    "#### Importação de bibliotecas"
   ]
  },
  {
   "cell_type": "code",
   "execution_count": 1,
   "id": "37ab0d7a",
   "metadata": {},
   "outputs": [],
   "source": [
    "import pandas as pd\n",
    "import numpy as np\n",
    "from pyproj import Proj"
   ]
  },
  {
   "cell_type": "markdown",
   "id": "5c5f291d",
   "metadata": {},
   "source": [
    "#### Plot da sísmica"
   ]
  },
  {
   "cell_type": "code",
   "execution_count": 2,
   "id": "fb0f0cfb",
   "metadata": {},
   "outputs": [],
   "source": [
    "# Carregando dado SÍSMICO\n",
    "df_sbp = pd.read_csv(r\"C:\\DCPS\\GitHub\\Dados_MapeamentoIA_JEH\\Thickness_MadeiraNW.txt\",sep=';')"
   ]
  },
  {
   "cell_type": "code",
   "execution_count": 3,
   "id": "5e31112d",
   "metadata": {},
   "outputs": [
    {
     "name": "stderr",
     "output_type": "stream",
     "text": [
      "C:\\Users\\User W10\\anaconda3\\lib\\site-packages\\pandas\\core\\indexing.py:1637: SettingWithCopyWarning: \n",
      "A value is trying to be set on a copy of a slice from a DataFrame\n",
      "\n",
      "See the caveats in the documentation: https://pandas.pydata.org/pandas-docs/stable/user_guide/indexing.html#returning-a-view-versus-a-copy\n",
      "  self._setitem_single_block(indexer, value, name)\n"
     ]
    }
   ],
   "source": [
    "# Convertendo de projeção geográfica WGS84 para UTM WGS84\n",
    "df_sbp['LATITUDE'] = df_sbp['LATITUDE'].str.replace(',','.')\n",
    "df_sbp['LATITUDE'] = df_sbp['LATITUDE'].astype(\"float\")\n",
    "df_sbp['LONGITUDE'] = df_sbp['LONGITUDE'].str.replace(',','.')\n",
    "df_sbp['LONGITUDE'] = df_sbp['LONGITUDE'].astype(\"float\")\n",
    "df_sbp['THICKNESS_'] = df_sbp['THICKNESS_'].str.replace(',','.')\n",
    "df_sbp['THICKNESS_'] = df_sbp['THICKNESS_'].astype(\"float\")\n",
    "df_sbp['classe'] = 1\n",
    "df_sbp['classe'].iloc[df_sbp[df_sbp['THICKNESS_']!=0].index] = 0\n",
    "\n",
    "myProj = Proj(\"+proj=utm +zone=28 +north +ellps=WGS84 +datum=WGS84 +units=m\")\n",
    "utmx, utmy = myProj(df_sbp.LONGITUDE, df_sbp.LATITUDE) \n",
    "df_sbp['utmx'] = utmx\n",
    "df_sbp['utmy'] = utmy\n",
    "\n",
    "# Pegando somente colunas de interesse da sísmica\n",
    "df_sbp = df_sbp[['utmx','utmy','classe']]\n",
    "del utmx,utmy\n",
    "\n",
    "df_sbp[df_sbp.classe==0].to_csv(r'C:\\DCPS\\GitHub\\Dados_MapeamentoIA_JEH\\plotGMsedimento.txt',index=None,header=True)\n",
    "df_sbp[df_sbp.classe==1].to_csv(r'C:\\DCPS\\GitHub\\Dados_MapeamentoIA_JEH\\plotGMrocha.txt',index=None,header=True)"
   ]
  },
  {
   "cell_type": "markdown",
   "id": "2670c25f",
   "metadata": {},
   "source": [
    "#### Plot das features"
   ]
  },
  {
   "cell_type": "code",
   "execution_count": 4,
   "id": "61e686c8",
   "metadata": {},
   "outputs": [],
   "source": [
    "dado_tudo = pd.read_csv(r\"C:\\DCPS\\GitHub\\Dados_MapeamentoIA_JEH\\dado_tudo.txt\")\n",
    "\n",
    "dado_tudo[['utmx','utmy','z']].to_csv(r'C:\\DCPS\\GitHub\\Dados_MapeamentoIA_JEH\\plotGMbatimetria.txt',\n",
    "          index=None,header=False)\n",
    "dado_tudo[['utmx','utmy','bs']].to_csv(r'C:\\DCPS\\GitHub\\Dados_MapeamentoIA_JEH\\plotGMbackscatter.txt',\n",
    "          index=None,header=False)\n",
    "dado_tudo[['utmx','utmy','sl']].to_csv(r'C:\\DCPS\\GitHub\\Dados_MapeamentoIA_JEH\\plotGMslope.txt',\n",
    "          index=None,header=False)\n",
    "dado_tudo[['utmx','utmy','as']].to_csv(r'C:\\DCPS\\GitHub\\Dados_MapeamentoIA_JEH\\plotGMaspect.txt',\n",
    "          index=None,header=False)\n",
    "dado_tudo[['utmx','utmy','dist_lc']].to_csv(r'C:\\DCPS\\GitHub\\Dados_MapeamentoIA_JEH\\plotGMdist_lc.txt',\n",
    "          index=None,header=False)\n",
    "dado_tudo[['utmx','utmy','dist_ds']].to_csv(r'C:\\DCPS\\GitHub\\Dados_MapeamentoIA_JEH\\plotGMdist_ds.txt',\n",
    "          index=None,header=False)"
   ]
  }
 ],
 "metadata": {
  "kernelspec": {
   "display_name": "Python 3",
   "language": "python",
   "name": "python3"
  },
  "language_info": {
   "codemirror_mode": {
    "name": "ipython",
    "version": 3
   },
   "file_extension": ".py",
   "mimetype": "text/x-python",
   "name": "python",
   "nbconvert_exporter": "python",
   "pygments_lexer": "ipython3",
   "version": "3.8.8"
  }
 },
 "nbformat": 4,
 "nbformat_minor": 5
}

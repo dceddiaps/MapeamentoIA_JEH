{
 "cells": [
  {
   "cell_type": "markdown",
   "id": "a41cbe0d",
   "metadata": {},
   "source": [
    "# Extrapolação XGBoost c/ predict_proba()"
   ]
  },
  {
   "cell_type": "markdown",
   "id": "a160ae4d",
   "metadata": {},
   "source": [
    "## Projeto de Mapeamento Marinho Apresentado Nas Jornadas de Engenharia Hidrográfica"
   ]
  },
  {
   "cell_type": "markdown",
   "id": "3be1fe4e",
   "metadata": {},
   "source": [
    "## Diogo Ceddia Porto Silva"
   ]
  },
  {
   "cell_type": "markdown",
   "id": "4bd79006",
   "metadata": {},
   "source": [
    "#### Importação de bibliotecas"
   ]
  },
  {
   "cell_type": "code",
   "execution_count": 1,
   "id": "cd5021cc",
   "metadata": {},
   "outputs": [],
   "source": [
    "import pandas as pd\n",
    "from xgboost import XGBClassifier\n",
    "from sklearn.model_selection import train_test_split\n",
    "import time\n",
    "from sklearn import metrics\n",
    "import numpy as np\n",
    "from sklearn.preprocessing import StandardScaler\n",
    "import warnings\n",
    "warnings.filterwarnings(\"ignore\")"
   ]
  },
  {
   "cell_type": "markdown",
   "id": "ca48dd89",
   "metadata": {},
   "source": [
    "#### Importação dos dados"
   ]
  },
  {
   "cell_type": "code",
   "execution_count": 2,
   "id": "0712277a",
   "metadata": {},
   "outputs": [],
   "source": [
    "dado_linhas = pd.read_csv(\"C:\\DCPS\\GitHub\\Dados_MapeamentoIA_JEH\\dado_linhas.txt\")\n",
    "dado_tudo = pd.read_csv(\"C:\\DCPS\\GitHub\\Dados_MapeamentoIA_JEH\\dado_tudo.txt\")"
   ]
  },
  {
   "cell_type": "markdown",
   "id": "255adc9a",
   "metadata": {},
   "source": [
    "#### Separando target/feature e treino/validação"
   ]
  },
  {
   "cell_type": "code",
   "execution_count": 3,
   "id": "872d25c1",
   "metadata": {},
   "outputs": [],
   "source": [
    "features = ['z','bs','sl','as','dist_lc','dist_ds']\n",
    "target = ['classe']\n",
    "\n",
    "X_test = dado_tudo[features]\n",
    "X      = dado_linhas[features]\n",
    "y      = dado_linhas[target]\n",
    "\n",
    "X = StandardScaler().fit_transform(X)\n",
    "X = pd.DataFrame(X,columns=features)\n",
    "X_test = StandardScaler().fit_transform(X_test)\n",
    "X_test = pd.DataFrame(X_test,columns=features)"
   ]
  },
  {
   "cell_type": "markdown",
   "id": "dfe7b346",
   "metadata": {},
   "source": [
    "#### Definição do modelo "
   ]
  },
  {
   "cell_type": "code",
   "execution_count": 4,
   "id": "7ef8308f",
   "metadata": {},
   "outputs": [],
   "source": [
    "params = {'learning_rate': 0.62,\n",
    "          'max_depth': 7,\n",
    "          'n_estimators': 1310\n",
    "         }\n",
    "\n",
    "model = XGBClassifier(use_label_encoder=False,**params)"
   ]
  },
  {
   "cell_type": "markdown",
   "id": "ae7235cc",
   "metadata": {},
   "source": [
    "#### Treinamento e predição"
   ]
  },
  {
   "cell_type": "code",
   "execution_count": 5,
   "id": "4ec3aa1e",
   "metadata": {},
   "outputs": [
    {
     "name": "stdout",
     "output_type": "stream",
     "text": [
      "Tempo: 263.44949293136597 segundos\n"
     ]
    }
   ],
   "source": [
    "start = time.time()\n",
    "model.fit(X, y.values.ravel(), eval_metric='merror')\n",
    "y_pred_all = model.predict(X_test)\n",
    "end=time.time()\n",
    "print('Tempo:',end-start,'segundos')"
   ]
  },
  {
   "cell_type": "code",
   "execution_count": 6,
   "id": "a8f6ff66",
   "metadata": {},
   "outputs": [],
   "source": [
    "y_pred_all = pd.DataFrame(y_pred_all,columns=['classe'])\n",
    "y_pred_all['proba_rocha'] = model.predict_proba(X_test)[:,1]"
   ]
  },
  {
   "cell_type": "markdown",
   "id": "294fd00b",
   "metadata": {},
   "source": [
    "#### Filtro estatístico"
   ]
  },
  {
   "cell_type": "code",
   "execution_count": 7,
   "id": "82900cea",
   "metadata": {},
   "outputs": [
    {
     "name": "stdout",
     "output_type": "stream",
     "text": [
      " \n",
      "2738025\n",
      "3181095\n",
      " \n",
      "2633607\n",
      "3285513\n",
      " \n",
      "2392043\n",
      "3527077\n",
      " \n",
      "2028095\n",
      "3891025\n"
     ]
    }
   ],
   "source": [
    "for i in [0.90, 0.95, 0.99, 0.999]:\n",
    "\n",
    "    pred = y_pred_all.copy()\n",
    "\n",
    "    pred.classe.iloc[np.where(pred['proba_rocha']>i)[0]] = 1\n",
    "    pred.classe.iloc[np.where(pred['proba_rocha']<i)[0]] = 0\n",
    "\n",
    "    print(' ')\n",
    "    print(len(np.where(pred.classe==1)[0]))\n",
    "    print(len(np.where(pred.classe==0)[0]))\n",
    "    \n",
    "    proba_rocha = pd.concat([dado_tudo[['utmx','utmy']],pred[['classe']]],axis=1)\n",
    "    proba_rocha.to_csv(rf\"C:\\DCPS\\GitHub\\Dados_MapeamentoIA_JEH\\proba_rocha_filtrado{i}.txt\",index=False,header=False)"
   ]
  },
  {
   "cell_type": "markdown",
   "id": "daf4dcae",
   "metadata": {},
   "source": [
    "#### Salvando predição"
   ]
  },
  {
   "cell_type": "code",
   "execution_count": 8,
   "id": "e10de780",
   "metadata": {},
   "outputs": [
    {
     "name": "stdout",
     "output_type": "stream",
     "text": [
      "2892958\n",
      "3026162\n"
     ]
    }
   ],
   "source": [
    "pred_xy0_all = dado_tudo.iloc[np.where(y_pred_all.classe == 0)[0]].reset_index(drop=True)\n",
    "pred_xy0_all['classe']= 0\n",
    "pred_xy1_all = dado_tudo.iloc[np.where(y_pred_all.classe == 1)[0]].reset_index(drop=True)\n",
    "pred_xy1_all['classe']= 1\n",
    "print(len(pred_xy0_all))\n",
    "print(len(pred_xy1_all))"
   ]
  },
  {
   "cell_type": "code",
   "execution_count": 9,
   "id": "24eca6e3",
   "metadata": {},
   "outputs": [],
   "source": [
    "#pred_xy0_all.to_csv(r\"C:\\DCPS\\GitHub\\Dados_MapeamentoIA_JEH\\pred_sedimento_v2_tuned.txt\",\n",
    "#                    index=False,header=False,columns=['utmx','utmy'])\n",
    "#pred_xy1_all.to_csv(r\"C:\\DCPS\\GitHub\\Dados_MapeamentoIA_JEH\\pred_rocha_v2_tuned.txt\",\n",
    "#                    index=False,header=False,columns=['utmx','utmy'])"
   ]
  },
  {
   "cell_type": "code",
   "execution_count": 10,
   "id": "a497db91",
   "metadata": {},
   "outputs": [],
   "source": [
    "#proba_rocha = pd.concat([dado_tudo[['utmx','utmy']],y_pred_all[['proba_rocha']]],axis=1)\n",
    "#proba_rocha.to_csv(r\"C:\\DCPS\\GitHub\\Dados_MapeamentoIA_JEH\\proba_rocha.txt\",index=False,header=False)"
   ]
  }
 ],
 "metadata": {
  "kernelspec": {
   "display_name": "Python 3",
   "language": "python",
   "name": "python3"
  },
  "language_info": {
   "codemirror_mode": {
    "name": "ipython",
    "version": 3
   },
   "file_extension": ".py",
   "mimetype": "text/x-python",
   "name": "python",
   "nbconvert_exporter": "python",
   "pygments_lexer": "ipython3",
   "version": "3.8.8"
  }
 },
 "nbformat": 4,
 "nbformat_minor": 5
}

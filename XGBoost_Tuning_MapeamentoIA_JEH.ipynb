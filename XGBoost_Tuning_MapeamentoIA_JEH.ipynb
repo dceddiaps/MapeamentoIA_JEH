{
 "cells": [
  {
   "cell_type": "markdown",
   "id": "8aa7264a",
   "metadata": {},
   "source": [
    "# Model Tuning no XGBoost"
   ]
  },
  {
   "cell_type": "markdown",
   "id": "0982d68d",
   "metadata": {},
   "source": [
    "## Projeto de Mapeamento Marinho Apresentado Nas Jornadas de Engenharia Hidrográfica"
   ]
  },
  {
   "cell_type": "markdown",
   "id": "b92d3521",
   "metadata": {},
   "source": [
    "## Diogo Ceddia Porto Silva"
   ]
  },
  {
   "cell_type": "markdown",
   "id": "61e68ea4",
   "metadata": {},
   "source": [
    "#### Importação de bibliotecas"
   ]
  },
  {
   "cell_type": "code",
   "execution_count": 1,
   "id": "193b3884",
   "metadata": {},
   "outputs": [],
   "source": [
    "import pandas as pd\n",
    "from xgboost import XGBClassifier\n",
    "from sklearn.model_selection import train_test_split, GridSearchCV\n",
    "from sklearn.preprocessing import StandardScaler\n",
    "from sklearn import metrics\n",
    "import time\n",
    "import numpy as np"
   ]
  },
  {
   "cell_type": "markdown",
   "id": "178813f5",
   "metadata": {},
   "source": [
    "#### Carregando dado"
   ]
  },
  {
   "cell_type": "code",
   "execution_count": 2,
   "id": "0bb0a954",
   "metadata": {},
   "outputs": [],
   "source": [
    "dado_linhas = pd.read_csv(\"C:\\DCPS\\GitHub\\Dados_MapeamentoIA_JEH\\dado_linhas.txt\")"
   ]
  },
  {
   "cell_type": "markdown",
   "id": "1edb0fcb",
   "metadata": {},
   "source": [
    "#### Separando target/feature e treino/validação"
   ]
  },
  {
   "cell_type": "code",
   "execution_count": 3,
   "id": "c0a09d61",
   "metadata": {},
   "outputs": [],
   "source": [
    "features = ['z','bs','sl','as','dist_lc','dist_ds']\n",
    "target = ['classe']\n",
    "\n",
    "X = dado_linhas[features]\n",
    "y = dado_linhas[target]\n",
    "\n",
    "X = StandardScaler().fit_transform(X)\n",
    "X = pd.DataFrame(X,columns=features)\n",
    "\n",
    "train_size=0.2\n",
    "test_size=0.8\n",
    "X_train, X_valid, y_train, y_valid = train_test_split(X, y, random_state=0,\n",
    "                                                        train_size=train_size, \n",
    "                                                        test_size=test_size, \n",
    "                                                        stratify=y.classe)"
   ]
  },
  {
   "cell_type": "markdown",
   "id": "04a110db",
   "metadata": {},
   "source": [
    "#### Definição do modelo"
   ]
  },
  {
   "cell_type": "code",
   "execution_count": 4,
   "id": "dd74f595",
   "metadata": {},
   "outputs": [],
   "source": [
    "model = XGBClassifier()"
   ]
  },
  {
   "cell_type": "markdown",
   "id": "06ff4c47",
   "metadata": {},
   "source": [
    "#### Treinamento Preliminar"
   ]
  },
  {
   "cell_type": "code",
   "execution_count": 5,
   "id": "8dae011e",
   "metadata": {},
   "outputs": [
    {
     "name": "stdout",
     "output_type": "stream",
     "text": [
      "Tempo de treinamento 3.1112594604492188 segundos\n",
      "20.0% para treinar\n",
      "80.0% para validar\n",
      "\n",
      "A precisão do modelo é de 98.876%\n"
     ]
    }
   ],
   "source": [
    "start = time.time()\n",
    "model.fit(X_train, y_train.values.ravel(), eval_metric='merror')\n",
    "y_pred = model.predict(X_valid)\n",
    "end=time.time()\n",
    "y_pred = pd.DataFrame(y_pred,columns=['classe'])\n",
    "\n",
    "print('Tempo de treinamento',end-start,'segundos')\n",
    "print(f'{train_size*100}% para treinar')\n",
    "print(f'{test_size*100}% para validar')\n",
    "\n",
    "# Métrica de acurácia considerando o dado desbalanceado\n",
    "precisao = metrics.balanced_accuracy_score(y_valid, y_pred)\n",
    "print(f'\\nA precisão do modelo é de {(precisao*100).round(3)}%')"
   ]
  },
  {
   "cell_type": "markdown",
   "id": "09c7adfb",
   "metadata": {},
   "source": [
    "###### Todos os parâmetros possíveis"
   ]
  },
  {
   "cell_type": "raw",
   "id": "cf311383",
   "metadata": {},
   "source": [
    "XGBClassifier(base_score=0.5, \n",
    "              booster='gbtree', \n",
    "              colsample_bylevel=1,\n",
    "              colsample_bynode=1, \n",
    "              colsample_bytree=1, \n",
    "              gamma=0, \n",
    "              gpu_id=-1,\n",
    "              importance_type='gain', \n",
    "              interaction_constraints='',\n",
    "              learning_rate=0.300000012, \n",
    "              max_delta_step=0, \n",
    "              max_depth=6,\n",
    "              min_child_weight=1, \n",
    "              monotone_constraints='()',\n",
    "              n_estimators=100, \n",
    "              n_jobs=0, \n",
    "              num_parallel_tree=1,\n",
    "              objective='multi:softprob', \n",
    "              random_state=0, \n",
    "              reg_alpha=0,\n",
    "              reg_lambda=1, \n",
    "              scale_pos_weight=None, \n",
    "              subsample=1,\n",
    "              tree_method='exact', \n",
    "              validate_parameters=1, \n",
    "              verbosity=None)"
   ]
  },
  {
   "cell_type": "markdown",
   "id": "471bce23",
   "metadata": {},
   "source": [
    "#### Por tentativa e erro..."
   ]
  },
  {
   "cell_type": "code",
   "execution_count": 6,
   "id": "529bf050",
   "metadata": {},
   "outputs": [],
   "source": [
    "learning_rate = np.arange(0.61,  0.63, 0.01).tolist()   #aka eta\n",
    "max_depth     = np.arange(6   ,    9,    1).tolist()\n",
    "n_estimators  = np.arange(1300  ,  1330,  10).tolist()"
   ]
  },
  {
   "cell_type": "code",
   "execution_count": 7,
   "id": "a35f9198",
   "metadata": {},
   "outputs": [
    {
     "name": "stdout",
     "output_type": "stream",
     "text": [
      "learning_rate: [0.61, 0.62, 0.63]\n",
      "max_depth: [6, 7, 8]\n",
      "n_estimators: [1300, 1310, 1320]\n"
     ]
    }
   ],
   "source": [
    "print('learning_rate:',learning_rate)\n",
    "print('max_depth:',max_depth)\n",
    "print('n_estimators:',n_estimators)"
   ]
  },
  {
   "cell_type": "code",
   "execution_count": 8,
   "id": "f1666279",
   "metadata": {},
   "outputs": [
    {
     "name": "stdout",
     "output_type": "stream",
     "text": [
      "27\n"
     ]
    }
   ],
   "source": [
    "qtd_fits = len(learning_rate)*len(max_depth)*len(n_estimators)\n",
    "print(qtd_fits)"
   ]
  },
  {
   "cell_type": "markdown",
   "id": "d4f01e07",
   "metadata": {},
   "source": [
    "#### Tuning"
   ]
  },
  {
   "cell_type": "code",
   "execution_count": 9,
   "id": "0e7fa4c8",
   "metadata": {},
   "outputs": [],
   "source": [
    "params = {\n",
    "            'learning_rate': learning_rate,   # aka 'eta' \n",
    "            'max_depth': max_depth, \n",
    "            'n_estimators': n_estimators,\n",
    "            #'max_depth': [8],\n",
    "            #'learning_rate': [0.61],\n",
    "            #'n_estimators': [1310],\n",
    "            #'subsample': np.arange(0.8, 1.2, 0.1).tolist(),  \n",
    "            #'colsample_bytree': np.arange(0.4, 1.6, 0.2).tolist(),\n",
    "        }"
   ]
  },
  {
   "cell_type": "code",
   "execution_count": 10,
   "id": "ada0aa08",
   "metadata": {},
   "outputs": [
    {
     "name": "stdout",
     "output_type": "stream",
     "text": [
      "{'learning_rate': 0.62, 'max_depth': 7, 'n_estimators': 1310}\n",
      "99.47097 %\n"
     ]
    }
   ],
   "source": [
    "grid_search = GridSearchCV(model, param_grid=params,cv=5, n_jobs=-1, scoring='balanced_accuracy')\n",
    "grid_search.fit(X_train, y_train, eval_metric='merror')\n",
    "\n",
    "print(grid_search.best_params_)\n",
    "print(np.round(100*grid_search.score(X, y),5),'%')"
   ]
  }
 ],
 "metadata": {
  "kernelspec": {
   "display_name": "Python 3",
   "language": "python",
   "name": "python3"
  },
  "language_info": {
   "codemirror_mode": {
    "name": "ipython",
    "version": 3
   },
   "file_extension": ".py",
   "mimetype": "text/x-python",
   "name": "python",
   "nbconvert_exporter": "python",
   "pygments_lexer": "ipython3",
   "version": "3.8.8"
  }
 },
 "nbformat": 4,
 "nbformat_minor": 5
}
